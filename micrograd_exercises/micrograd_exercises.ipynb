{
  "nbformat": 4,
  "nbformat_minor": 0,
  "metadata": {
    "colab": {
      "provenance": []
    },
    "kernelspec": {
      "name": "python3",
      "display_name": "Python 3"
    },
    "language_info": {
      "name": "python"
    }
  },
  "cells": [
    {
      "cell_type": "markdown",
      "source": [
        "# micrograd exercises\n",
        "\n",
        "1. watch the [micrograd video](https://www.youtube.com/watch?v=VMj-3S1tku0) on YouTube\n",
        "2. come back and complete these exercises to level up :)"
      ],
      "metadata": {
        "id": "JnGHatCI51JP"
      }
    },
    {
      "cell_type": "markdown",
      "source": [
        "## section 1: derivatives"
      ],
      "metadata": {
        "id": "OFt6NKOz6iBZ"
      }
    },
    {
      "cell_type": "code",
      "source": [
        "# here is a mathematical expression that takes 3 inputs and produces one output\n",
        "from math import sin, cos\n",
        "\n",
        "def f(a, b, c):\n",
        "  return -a**3 + sin(3*b) - 1.0/c + b**2.5 - a**0.5\n",
        "\n",
        "print(f(2, 3, 4))"
      ],
      "metadata": {
        "id": "3Jx9fCXl5xHd"
      },
      "execution_count": null,
      "outputs": []
    },
    {
      "cell_type": "code",
      "source": [
        "# write the function df that returns the analytical gradient of f\n",
        "# i.e. use your skills from calculus to take the derivative, then implement the formula\n",
        "# if you do not calculus then feel free to ask wolframalpha, e.g.:\n",
        "# https://www.wolframalpha.com/input?i=d%2Fda%28sin%283*a%29%29%29\n",
        "\n",
        "def gradf(a, b, c):\n",
        "  h = 1e-10\n",
        "  d1 = f(a, b, c)\n",
        "\n",
        "  # partial derivative with respect to a\n",
        "  d2 = f(a + h, b, c)\n",
        "  df_da = (d2 - d1) / h\n",
        "\n",
        "  # partial derivative with respect to b\n",
        "  d2 = f(a, b + h, c)\n",
        "  df_db = (d2 - d1) / h\n",
        "\n",
        "  # partial derivative with respect to c\n",
        "  d2 = f(a, b, c + h)\n",
        "  df_dc = (d2 - d1) / h\n",
        "\n",
        "  return [df_da, df_db, df_dc]\n",
        "\n",
        "# expected answer is the list of\n",
        "ans = [-12.353553390593273, 10.25699027111255, 0.0625]\n",
        "yours = gradf(2, 3, 4)\n",
        "for dim in range(3):\n",
        "  ok = 'OK' if abs(yours[dim] - ans[dim]) < 1e-5 else 'WRONG!'\n",
        "  print(f\"{ok} for dim {dim}: expected {ans[dim]}, yours returns {yours[dim]}\")\n"
      ],
      "metadata": {
        "id": "qXaH59eL9zxf",
        "colab": {
          "base_uri": "https://localhost:8080/"
        },
        "outputId": "0fb9d37b-7fa7-4b88-e946-9b9eeb0b943d"
      },
      "execution_count": null,
      "outputs": [
        {
          "output_type": "stream",
          "name": "stdout",
          "text": [
            "OK for dim 0: expected -12.353553390593273, yours returns -12.35355817641448\n",
            "OK for dim 1: expected 10.25699027111255, yours returns 10.256986371359744\n",
            "OK for dim 2: expected 0.0625, yours returns 0.06250111539429781\n"
          ]
        }
      ]
    },
    {
      "cell_type": "code",
      "source": [
        "# now estimate the gradient numerically without any calculus, using\n",
        "# the approximation we used in the video.\n",
        "# you should not call the function df from the last cell\n",
        "\n",
        "# -----------\n",
        "h = 1e-10\n",
        "y1 = f(2, 3 ,4)\n",
        "\n",
        "y2 = f(2 + h, 3, 4)\n",
        "df_da = (y2 - y1) / h\n",
        "\n",
        "y2 = f(2, 3 + h, 4)\n",
        "df_db = (y2 - y1) / h\n",
        "\n",
        "y2 = f(2, 3, 4 + h)\n",
        "df_dc = (y2 - y1) / h\n",
        "\n",
        "numerical_grad = [df_da, df_db, df_dc]\n",
        "# -----------\n",
        "\n",
        "for dim in range(3):\n",
        "  ok = 'OK' if abs(numerical_grad[dim] - ans[dim]) < 1e-5 else 'WRONG!'\n",
        "  print(f\"{ok} for dim {dim}: expected {ans[dim]}, yours returns {numerical_grad[dim]}\")\n"
      ],
      "metadata": {
        "id": "_27n-KTA9Qla",
        "colab": {
          "base_uri": "https://localhost:8080/"
        },
        "outputId": "839e0700-90f9-49ec-cb54-877ecd734174"
      },
      "execution_count": null,
      "outputs": [
        {
          "output_type": "stream",
          "name": "stdout",
          "text": [
            "OK for dim 0: expected -12.353553390593273, yours returns -12.35355817641448\n",
            "OK for dim 1: expected 10.25699027111255, yours returns 10.256986371359744\n",
            "OK for dim 2: expected 0.0625, yours returns 0.06250111539429781\n"
          ]
        }
      ]
    },
    {
      "cell_type": "code",
      "source": [
        "# there is an alternative formula that provides a much better numerical\n",
        "# approximation to the derivative of a function.\n",
        "# learn about it here: https://en.wikipedia.org/wiki/Symmetric_derivative\n",
        "# implement it. confirm that for the same step size h this version gives a\n",
        "# better approximation.\n",
        "\n",
        "# -----------\n",
        "h = 1e-10\n",
        "\n",
        "y1 = f(2 - h, 3, 4)\n",
        "y2 = f(2 + h, 3, 4)\n",
        "df_da = (y2 - y1) / (2*h)\n",
        "\n",
        "y1 = f(2, 3 - h, 4)\n",
        "y2 = f(2, 3 + h, 4)\n",
        "df_db = (y2 - y1) / (2*h)\n",
        "\n",
        "y1 = f(2, 3, 4 - h)\n",
        "y2 = f(2, 3, 4 + h)\n",
        "df_dc = (y2 - y1) / (2*h)\n",
        "\n",
        "numerical_grad2 = [df_da, df_db, df_dc]\n",
        "# -----------\n",
        "\n",
        "for dim in range(3):\n",
        "  ok = 'OK' if abs(numerical_grad2[dim] - ans[dim]) < 1e-5 else 'WRONG!'\n",
        "  print(f\"{ok} for dim {dim}: expected {ans[dim]}, yours returns {numerical_grad2[dim]}\")\n",
        "\n",
        "# confirm that for the same step size h this version gives a\n",
        "# better approximation.\n",
        "\n",
        "for dim in range(3):\n",
        "  sid = abs(numerical_grad[dim] - ans[dim]) # simple derivative result\n",
        "  syd = abs(numerical_grad2[dim] - ans[dim]) # symmetric derivative result\n",
        "\n",
        "  print(f\"\\nDim {dim}:\\nSimple derivative: %.10f | Symmetric derivative: %.10f\" % (sid, syd))\n",
        "  if sid >= syd:\n",
        "    print(\"Symmetric derivative has better approximation!\")\n",
        "  else:\n",
        "    print(\"Simple derivative has better approximation!\")"
      ],
      "metadata": {
        "id": "BUqsGb5o_h2P",
        "colab": {
          "base_uri": "https://localhost:8080/"
        },
        "outputId": "2915f2fd-f5af-4285-d546-425703055abb"
      },
      "execution_count": null,
      "outputs": [
        {
          "output_type": "stream",
          "name": "stdout",
          "text": [
            "OK for dim 0: expected -12.353553390593273, yours returns -12.353553735522382\n",
            "OK for dim 1: expected 10.25699027111255, yours returns 10.256990812251843\n",
            "OK for dim 2: expected 0.0625, yours returns 0.06250111539429781\n",
            "\n",
            "Dim 0:\n",
            "Simple derivative: 0.0000047858 | Symmetric derivative: 0.0000003449\n",
            "Symmetric derivative has better approximation!\n",
            "\n",
            "Dim 1:\n",
            "Simple derivative: 0.0000038998 | Symmetric derivative: 0.0000005411\n",
            "Symmetric derivative has better approximation!\n",
            "\n",
            "Dim 2:\n",
            "Simple derivative: 0.0000011154 | Symmetric derivative: 0.0000011154\n",
            "Symmetric derivative has better approximation!\n"
          ]
        }
      ]
    },
    {
      "cell_type": "markdown",
      "source": [
        "## section 2: support for softmax"
      ],
      "metadata": {
        "id": "tklF9s_4AtlI"
      }
    },
    {
      "cell_type": "code",
      "source": [
        "# Value class starter code, with many functions taken out\n",
        "from math import exp, log\n",
        "\n",
        "class Value:\n",
        "\n",
        "  def __init__(self, data, _children=(), _op='', label=''):\n",
        "    self.data = data\n",
        "    self.grad = 0.0\n",
        "    self._backward = lambda: None\n",
        "    self._prev = set(_children)\n",
        "    self._op = _op\n",
        "    self.label = label\n",
        "\n",
        "  def __repr__(self):\n",
        "    return f\"Value(data={self.data})\"\n",
        "\n",
        "  def __add__(self, other): # exactly as in the video\n",
        "    other = other if isinstance(other, Value) else Value(other)\n",
        "    out = Value(self.data + other.data, (self, other), '+')\n",
        "\n",
        "    def _backward():\n",
        "      self.grad += 1.0 * out.grad\n",
        "      other.grad += 1.0 * out.grad\n",
        "    out._backward = _backward\n",
        "\n",
        "    return out\n",
        "\n",
        "  def __radd__(self, other):\n",
        "    if isinstance(other, (int, float)):\n",
        "      return self + other\n",
        "    else:\n",
        "      return other + self\n",
        "\n",
        "  def __mul__(self, other):\n",
        "    other = other if isinstance(other, Value) else Value(other)\n",
        "    out = Value(self.data * other.data, (self, other), '*')\n",
        "\n",
        "    def _backward():\n",
        "      self.grad += other.data * out.grad\n",
        "      other.grad += self.data * out.grad\n",
        "    out._backward = _backward\n",
        "\n",
        "    return out\n",
        "\n",
        "  def __rmul__(self, other):\n",
        "    return other * self\n",
        "\n",
        "  def __pow__(self, other):\n",
        "    assert isinstance(other, (int , float)), \"only supporting int/float powers for now\"\n",
        "    out = Value(self.data**other, (self,), f'**{other}')\n",
        "\n",
        "    def _backward():\n",
        "      self.grad += other * self.data**(other - 1) * out.grad\n",
        "    out._backward = _backward\n",
        "\n",
        "    return out\n",
        "\n",
        "  def __truediv__(self, other):\n",
        "    return self * other**-1\n",
        "\n",
        "  def __neg__(self):\n",
        "    return self * -1\n",
        "\n",
        "  def __sub__(self, other):\n",
        "    return self + (-other)\n",
        "\n",
        "  def tanh(self):\n",
        "    x = self.data\n",
        "    t = (exp(2*x) - 1)/(exp(2*x) + 1)\n",
        "    out = Value(t, (self, ), 'tanh')\n",
        "\n",
        "    def _backward():\n",
        "      self.grad += (1 - t**2) * out.grad\n",
        "    out._backward = _backward\n",
        "\n",
        "    return out\n",
        "\n",
        "  def exp(self):\n",
        "    x = self.data\n",
        "    out = Value(exp(x), (self, ), 'exp')\n",
        "\n",
        "    def _backward():\n",
        "      self.grad += out.data * out.grad\n",
        "    out._backward = _backward\n",
        "\n",
        "    return out\n",
        "\n",
        "  def log(self):\n",
        "    x = self.data\n",
        "    out = Value(log(x), (self, ), 'log')\n",
        "\n",
        "    def _backward():\n",
        "      self.grad += (1 / x) * out.grad\n",
        "    out._backward = _backward\n",
        "\n",
        "    return out\n",
        "\n",
        "  def backward(self): # exactly as in video\n",
        "    topo = []\n",
        "    visited = set()\n",
        "    def build_topo(v):\n",
        "      if v not in visited:\n",
        "        visited.add(v)\n",
        "        for child in v._prev:\n",
        "          build_topo(child)\n",
        "        topo.append(v)\n",
        "    build_topo(self)\n",
        "\n",
        "    self.grad = 1.0\n",
        "    for node in reversed(topo):\n",
        "      node._backward()"
      ],
      "metadata": {
        "id": "nAPe_RVrCTeO"
      },
      "execution_count": null,
      "outputs": []
    },
    {
      "cell_type": "code",
      "source": [
        "# without referencing our code/video __too__ much, make this cell work\n",
        "# you'll have to implement (in some cases re-implemented) a number of functions\n",
        "# of the Value object, similar to what we've seen in the video.\n",
        "# instead of the squared error loss this implements the negative log likelihood\n",
        "# loss, which is very often used in classification.\n",
        "\n",
        "# this is the softmax function\n",
        "# https://en.wikipedia.org/wiki/Softmax_function\n",
        "def softmax(logits):\n",
        "  counts = [logit.exp() for logit in logits]\n",
        "  denominator = sum(counts)\n",
        "  out = [c / denominator for c in counts]\n",
        "  return out\n",
        "\n",
        "# this is the negative log likelihood loss function, pervasive in classification\n",
        "logits = [Value(0.0), Value(3.0), Value(-2.0), Value(1.0)]\n",
        "probs = softmax(logits)\n",
        "loss = -probs[3].log() # dim 3 acts as the label for this input example\n",
        "loss.backward()\n",
        "print(loss.data)\n",
        "\n",
        "ans = [0.041772570515350445, 0.8390245074625319, 0.005653302662216329, -0.8864503806400986]\n",
        "for dim in range(4):\n",
        "  ok = 'OK' if abs(logits[dim].grad - ans[dim]) < 1e-5 else 'WRONG!'\n",
        "  print(f\"{ok} for dim {dim}: expected {ans[dim]}, yours returns {logits[dim].grad}\")\n"
      ],
      "metadata": {
        "id": "VgWvwVQNAvnI",
        "colab": {
          "base_uri": "https://localhost:8080/"
        },
        "outputId": "b3636c3a-565d-4876-a23f-20b734085e5b"
      },
      "execution_count": null,
      "outputs": [
        {
          "output_type": "stream",
          "name": "stdout",
          "text": [
            "2.1755153626167147\n",
            "OK for dim 0: expected 0.041772570515350445, yours returns 0.041772570515350445\n",
            "OK for dim 1: expected 0.8390245074625319, yours returns 0.8390245074625319\n",
            "OK for dim 2: expected 0.005653302662216329, yours returns 0.005653302662216329\n",
            "OK for dim 3: expected -0.8864503806400986, yours returns -0.8864503806400986\n"
          ]
        }
      ]
    },
    {
      "cell_type": "code",
      "source": [
        "# verify the gradient using the torch library\n",
        "# torch should give you the exact same gradient\n",
        "import torch\n",
        "\n",
        "# define params\n",
        "_x1 = 2.0\n",
        "_x2 = 0.0\n",
        "_w1 = -3.0\n",
        "_w2 = 1.0\n",
        "_b = 6.8813735870195432\n",
        "\n",
        "# get our code output by Value class\n",
        "x1 = Value(_x1)\n",
        "x2 = Value(_x2)\n",
        "w1 = Value(_w1)\n",
        "w2 = Value(_w2)\n",
        "b = Value(_b)\n",
        "\n",
        "n = x1*w1 + x2*w2 + b\n",
        "o = n.tanh()\n",
        "\n",
        "o.backward()\n",
        "\n",
        "print(\"Our results:\")\n",
        "print(f\"x1: {x1.grad}\")\n",
        "print(f\"x2: {x2.grad}\")\n",
        "print(f\"w1: {w1.grad}\")\n",
        "print(f\"w2: {w2.grad}\")\n",
        "\n",
        "# get the results using torch\n",
        "x1 = torch.Tensor([_x1]).double(); x1.requires_grad = True\n",
        "x2 = torch.Tensor([_x2]).double(); x2.requires_grad = True\n",
        "w1 = torch.Tensor([_w1]).double(); w1.requires_grad = True\n",
        "w2 = torch.Tensor([_w2]).double(); w2.requires_grad = True\n",
        "b = torch.Tensor([_b]).double();   b.requires_grad = True\n",
        "n = x1*w1 + x2*w2 + b\n",
        "o = torch.tanh(n)\n",
        "\n",
        "o.backward()\n",
        "\n",
        "print(\"\\nTorch results:\")\n",
        "print(f\"x1: {x1.grad.item()}\")\n",
        "print(f\"x2: {x2.grad.item()}\")\n",
        "print(f\"w1: {w1.grad.item()}\")\n",
        "print(f\"w2: {w2.grad.item()}\")"
      ],
      "metadata": {
        "id": "q7ca1SVAGG1S",
        "colab": {
          "base_uri": "https://localhost:8080/"
        },
        "outputId": "45a8b993-ebb6-4356-b304-6565a0319e3c"
      },
      "execution_count": null,
      "outputs": [
        {
          "output_type": "stream",
          "name": "stdout",
          "text": [
            "Our results:\n",
            "x1: -1.4999999999999996\n",
            "x2: 0.4999999999999999\n",
            "w1: 0.9999999999999998\n",
            "w2: 0.0\n",
            "\n",
            "Torch results:\n",
            "x1: -1.5000003851533106\n",
            "x2: 0.5000001283844369\n",
            "w1: 1.0000002567688737\n",
            "w2: 0.0\n"
          ]
        }
      ]
    }
  ]
}